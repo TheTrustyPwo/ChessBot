{
 "cells": [
  {
   "cell_type": "code",
   "execution_count": 7,
   "id": "initial_id",
   "metadata": {
    "collapsed": true,
    "ExecuteTime": {
     "end_time": "2024-11-26T08:01:16.464907Z",
     "start_time": "2024-11-26T08:01:15.097323Z"
    }
   },
   "outputs": [],
   "source": [
    "import pandas as pd\n",
    "import numpy as np\n",
    "import torch\n",
    "from torch import nn\n",
    "from torch.utils.data import Dataset, DataLoader, random_split\n",
    "from sklearn.preprocessing import StandardScaler"
   ]
  },
  {
   "cell_type": "code",
   "outputs": [
    {
     "data": {
      "text/plain": "                                                 FEN  Evaluation\n0  rnbqkbnr/pppppppp/8/8/4P3/8/PPPP1PPP/RNBQKBNR ...       -10.0\n1  rnbqkbnr/pppp1ppp/4p3/8/4P3/8/PPPP1PPP/RNBQKBN...        56.0\n2  rnbqkbnr/pppp1ppp/4p3/8/3PP3/8/PPP2PPP/RNBQKBN...        -9.0\n3  rnbqkbnr/ppp2ppp/4p3/3p4/3PP3/8/PPP2PPP/RNBQKB...        52.0\n4  rnbqkbnr/ppp2ppp/4p3/3p4/3PP3/8/PPPN1PPP/R1BQK...       -26.0",
      "text/html": "<div>\n<style scoped>\n    .dataframe tbody tr th:only-of-type {\n        vertical-align: middle;\n    }\n\n    .dataframe tbody tr th {\n        vertical-align: top;\n    }\n\n    .dataframe thead th {\n        text-align: right;\n    }\n</style>\n<table border=\"1\" class=\"dataframe\">\n  <thead>\n    <tr style=\"text-align: right;\">\n      <th></th>\n      <th>FEN</th>\n      <th>Evaluation</th>\n    </tr>\n  </thead>\n  <tbody>\n    <tr>\n      <th>0</th>\n      <td>rnbqkbnr/pppppppp/8/8/4P3/8/PPPP1PPP/RNBQKBNR ...</td>\n      <td>-10.0</td>\n    </tr>\n    <tr>\n      <th>1</th>\n      <td>rnbqkbnr/pppp1ppp/4p3/8/4P3/8/PPPP1PPP/RNBQKBN...</td>\n      <td>56.0</td>\n    </tr>\n    <tr>\n      <th>2</th>\n      <td>rnbqkbnr/pppp1ppp/4p3/8/3PP3/8/PPP2PPP/RNBQKBN...</td>\n      <td>-9.0</td>\n    </tr>\n    <tr>\n      <th>3</th>\n      <td>rnbqkbnr/ppp2ppp/4p3/3p4/3PP3/8/PPP2PPP/RNBQKB...</td>\n      <td>52.0</td>\n    </tr>\n    <tr>\n      <th>4</th>\n      <td>rnbqkbnr/ppp2ppp/4p3/3p4/3PP3/8/PPPN1PPP/R1BQK...</td>\n      <td>-26.0</td>\n    </tr>\n  </tbody>\n</table>\n</div>"
     },
     "execution_count": 39,
     "metadata": {},
     "output_type": "execute_result"
    }
   ],
   "source": [
    "df = pd.read_csv('chess.csv', nrows=100000)\n",
    "df[\"Evaluation\"] = df[\"Evaluation\"].apply(lambda x: float(x[1:]) if x.startswith(\"#\") else float(x))\n",
    "df.head()"
   ],
   "metadata": {
    "collapsed": false,
    "ExecuteTime": {
     "end_time": "2024-11-26T08:21:19.673437Z",
     "start_time": "2024-11-26T08:21:19.544013Z"
    }
   },
   "id": "777d1fcf3a374563",
   "execution_count": 39
  },
  {
   "cell_type": "code",
   "outputs": [
    {
     "data": {
      "text/plain": "[268496640,\n 66,\n 36,\n 129,\n 8,\n 16,\n 71776119061217280,\n 4755801206503243776,\n 2594073385365405696,\n 9295429630892703744,\n 576460752303423488,\n 1152921504606846976]"
     },
     "execution_count": 40,
     "metadata": {},
     "output_type": "execute_result"
    }
   ],
   "source": [
    "def fen_to_bitboards(fen):\n",
    "    \"\"\"\n",
    "    Convert a FEN string to a bitboard representation.\n",
    "\n",
    "    Parameters:\n",
    "    - fen (str): A FEN string representing the chess position.\n",
    "\n",
    "    Returns:\n",
    "    - List[int]: A list of 12 integers representing the bitboards for each piece type.\n",
    "                 Order:\n",
    "                 [White Pawns, White Knights, White Bishops, White Rooks,\n",
    "                  White Queens, White King, Black Pawns, Black Knights,\n",
    "                  Black Bishops, Black Rooks, Black Queens, Black King]\n",
    "    \"\"\"\n",
    "    # Initialize 12 bitboards to 0\n",
    "    bitboards = [0] * 12\n",
    "\n",
    "    # Mapping from piece to bitboard index\n",
    "    piece_to_index = {\n",
    "        'P': 0, 'N': 1, 'B': 2, 'R': 3, 'Q': 4, 'K': 5,\n",
    "        'p': 6, 'n': 7, 'b': 8, 'r': 9, 'q': 10, 'k': 11\n",
    "    }\n",
    "\n",
    "    # Extract the piece placement field from FEN\n",
    "    piece_placement = fen.split(' ')[0]\n",
    "    ranks = piece_placement.split('/')\n",
    "\n",
    "    if len(ranks) != 8:\n",
    "        raise ValueError(\"Invalid FEN: Should have 8 ranks.\")\n",
    "\n",
    "    # Iterate over each rank starting from rank 8 to rank 1\n",
    "    for rank_idx, rank in enumerate(ranks):\n",
    "        file_idx = 0  # Files go from 'a' to 'h' (0 to 7)\n",
    "        for char in rank:\n",
    "            if char.isdigit():\n",
    "                # Empty squares; skip the number of squares indicated\n",
    "                file_idx += int(char)\n",
    "            elif char in piece_to_index:\n",
    "                # Calculate the square index (0 to 63)\n",
    "                square = (7 - rank_idx) * 8 + file_idx\n",
    "                bit = 1 << square\n",
    "                index = piece_to_index[char]\n",
    "                bitboards[index] |= bit\n",
    "                file_idx += 1\n",
    "            else:\n",
    "                raise ValueError(f\"Invalid character in FEN: '{char}'\")\n",
    "        if file_idx != 8:\n",
    "            raise ValueError(f\"Invalid FEN: Rank {rank_idx + 1} does not have exactly 8 squares.\")\n",
    "\n",
    "    return bitboards\n",
    "\n",
    "fen_to_bitboards(\"rnbqkbnr/pppppppp/8/8/4P3/8/PPPP1PPP/RNBQKBNR b KQkq - 0 1\")"
   ],
   "metadata": {
    "collapsed": false,
    "ExecuteTime": {
     "end_time": "2024-11-26T08:21:20.263883Z",
     "start_time": "2024-11-26T08:21:20.258712Z"
    }
   },
   "id": "451094960cd84d49",
   "execution_count": 40
  },
  {
   "cell_type": "code",
   "outputs": [
    {
     "name": "stdout",
     "output_type": "stream",
     "text": [
      "Test Loss: 0.3958\n"
     ]
    }
   ],
   "source": [
    "def bitboards_to_tensor(bitboards):\n",
    "    tensor = []\n",
    "    for bb in bitboards:\n",
    "        binary_str = bin(bb)[2:].zfill(64)\n",
    "        binary_list = [int(bit) for bit in binary_str]\n",
    "        tensor.append(binary_list)\n",
    "    return torch.tensor(tensor, dtype=torch.float32)\n",
    "\n",
    "# Custom Dataset\n",
    "class ChessDataset(Dataset):\n",
    "    def __init__(self, dataframe):\n",
    "        self.bitboards = dataframe['Bitboard'].apply(bitboards_to_tensor).tolist()\n",
    "        self.evaluations = torch.tensor(dataframe['Eval_scaled'].values, dtype=torch.float32).unsqueeze(1)\n",
    "    \n",
    "    def __len__(self):\n",
    "        return len(self.evaluations)\n",
    "    \n",
    "    def __getitem__(self, idx):\n",
    "        return self.bitboards[idx], self.evaluations[idx]\n",
    "\n",
    "# Neural Network Model\n",
    "class NNUEModel(nn.Module):\n",
    "    def __init__(self):\n",
    "        super(NNUEModel, self).__init__()\n",
    "        self.input_size = 12 * 64\n",
    "        self.hidden_size = 256\n",
    "        self.output_size = 1\n",
    "        \n",
    "        self.fc1 = nn.Linear(self.input_size, self.hidden_size)\n",
    "        self.relu1 = nn.ReLU()\n",
    "        self.fc2 = nn.Linear(self.hidden_size, self.hidden_size)\n",
    "        self.relu2 = nn.ReLU()\n",
    "        self.fc3 = nn.Linear(self.hidden_size, self.output_size)\n",
    "        \n",
    "    def forward(self, x):\n",
    "        x = x.view(-1, self.input_size)\n",
    "        x = self.fc1(x)\n",
    "        x = self.relu1(x)\n",
    "        x = self.fc2(x)\n",
    "        x = self.relu2(x)\n",
    "        x = self.fc3(x)\n",
    "        return x\n",
    "    \n",
    "def train_epoch(model, dataloader, criterion, optimizer, device):\n",
    "    model.train()\n",
    "    running_loss = 0.0\n",
    "    for bitboards, evaluations in dataloader:\n",
    "        bitboards = bitboards.to(device)\n",
    "        evaluations = evaluations.to(device)\n",
    "        \n",
    "        # Zero the gradients\n",
    "        optimizer.zero_grad()\n",
    "        \n",
    "        # Forward pass\n",
    "        outputs = model(bitboards)\n",
    "        loss = criterion(outputs, evaluations)\n",
    "        \n",
    "        # Backward pass and optimization\n",
    "        loss.backward()\n",
    "        optimizer.step()\n",
    "        \n",
    "        running_loss += loss.item() * bitboards.size(0)\n",
    "    \n",
    "    epoch_loss = running_loss / len(dataloader.dataset)\n",
    "    return epoch_loss\n",
    "\n",
    "def validate_epoch(model, dataloader, criterion, device):\n",
    "    model.eval()\n",
    "    running_loss = 0.0\n",
    "    with torch.no_grad():\n",
    "        for bitboards, evaluations in dataloader:\n",
    "            bitboards = bitboards.to(device)\n",
    "            evaluations = evaluations.to(device)\n",
    "            \n",
    "            outputs = model(bitboards)\n",
    "            loss = criterion(outputs, evaluations)\n",
    "            \n",
    "            running_loss += loss.item() * bitboards.size(0)\n",
    "    \n",
    "    epoch_loss = running_loss / len(dataloader.dataset)\n",
    "    return epoch_loss\n",
    "\n",
    "def test_model(model, dataloader, criterion, device):\n",
    "    model.eval()\n",
    "    running_loss = 0.0\n",
    "    with torch.no_grad():\n",
    "        for bitboards, evaluations in dataloader:\n",
    "            bitboards = bitboards.to(device)\n",
    "            evaluations = evaluations.to(device)\n",
    "            \n",
    "            outputs = model(bitboards)\n",
    "            loss = criterion(outputs, evaluations)\n",
    "            \n",
    "            running_loss += loss.item() * bitboards.size(0)\n",
    "    \n",
    "    test_loss = running_loss / len(dataloader.dataset)\n",
    "    return test_loss\n",
    "\n",
    "test_loss = test_model(model, test_loader, criterion, device)\n",
    "print(f'Test Loss: {test_loss:.4f}')\n"
   ],
   "metadata": {
    "collapsed": false,
    "ExecuteTime": {
     "end_time": "2024-11-26T08:21:20.591805Z",
     "start_time": "2024-11-26T08:21:20.527423Z"
    }
   },
   "id": "c5b870390d96e8fd",
   "execution_count": 41
  },
  {
   "cell_type": "code",
   "outputs": [
    {
     "name": "stdout",
     "output_type": "stream",
     "text": [
      "                                                 FEN  Evaluation  \\\n",
      "0  rnbqkbnr/pppppppp/8/8/4P3/8/PPPP1PPP/RNBQKBNR ...       -10.0   \n",
      "1  rnbqkbnr/pppp1ppp/4p3/8/4P3/8/PPPP1PPP/RNBQKBN...        56.0   \n",
      "2  rnbqkbnr/pppp1ppp/4p3/8/3PP3/8/PPP2PPP/RNBQKBN...        -9.0   \n",
      "3  rnbqkbnr/ppp2ppp/4p3/3p4/3PP3/8/PPP2PPP/RNBQKB...        52.0   \n",
      "4  rnbqkbnr/ppp2ppp/4p3/3p4/3PP3/8/PPPN1PPP/R1BQK...       -26.0   \n",
      "\n",
      "                                            Bitboard  \n",
      "0  [268496640, 66, 36, 129, 8, 16, 71776119061217...  \n",
      "1  [268496640, 66, 36, 129, 8, 16, 67290111619891...  \n",
      "2  [402712320, 66, 36, 129, 8, 16, 67290111619891...  \n",
      "3  [402712320, 66, 36, 129, 8, 16, 65038346165944...  \n",
      "4  [402712320, 2112, 36, 129, 8, 16, 650383461659...  \n"
     ]
    }
   ],
   "source": [
    "# df = df[(-100 <= df['Evaluation']) & (df['Evaluation'] <= 100)]\n",
    "df['Bitboard'] = df['FEN'].apply(fen_to_bitboards)\n",
    "print(df.head())"
   ],
   "metadata": {
    "collapsed": false,
    "ExecuteTime": {
     "end_time": "2024-11-26T08:21:22.660232Z",
     "start_time": "2024-11-26T08:21:22.131046Z"
    }
   },
   "id": "20f7b8939474f14b",
   "execution_count": 42
  },
  {
   "cell_type": "code",
   "outputs": [
    {
     "name": "stdout",
     "output_type": "stream",
     "text": [
      "Epoch 1: Train Loss = 0.7387, Val Loss = 0.5156\n",
      "Epoch 2: Train Loss = 0.4270, Val Loss = 0.3889\n",
      "Epoch 3: Train Loss = 0.3103, Val Loss = 0.4184\n",
      "Epoch 4: Train Loss = 0.2542, Val Loss = 0.3913\n",
      "Epoch 5: Train Loss = 0.2227, Val Loss = 0.3283\n",
      "Epoch 6: Train Loss = 0.1893, Val Loss = 0.3641\n",
      "Epoch 7: Train Loss = 0.1592, Val Loss = 0.3456\n",
      "Epoch 8: Train Loss = 0.1491, Val Loss = 0.4170\n",
      "Epoch 9: Train Loss = 0.1431, Val Loss = 0.3383\n",
      "Epoch 10: Train Loss = 0.1337, Val Loss = 0.3145\n",
      "Epoch 11: Train Loss = 0.1123, Val Loss = 0.3448\n",
      "Epoch 12: Train Loss = 0.1127, Val Loss = 0.3447\n",
      "Epoch 13: Train Loss = 0.1103, Val Loss = 0.3192\n",
      "Epoch 14: Train Loss = 0.1022, Val Loss = 0.3802\n",
      "Epoch 15: Train Loss = 0.0945, Val Loss = 0.3485\n",
      "Early stopping!\n",
      "Test Loss: 0.3700\n"
     ]
    },
    {
     "name": "stderr",
     "output_type": "stream",
     "text": [
      "/tmp/ipykernel_63340/2947708909.py:45: FutureWarning: You are using `torch.load` with `weights_only=False` (the current default value), which uses the default pickle module implicitly. It is possible to construct malicious pickle data which will execute arbitrary code during unpickling (See https://github.com/pytorch/pytorch/blob/main/SECURITY.md#untrusted-models for more details). In a future release, the default value for `weights_only` will be flipped to `True`. This limits the functions that could be executed during unpickling. Arbitrary objects will no longer be allowed to be loaded via this mode unless they are explicitly allowlisted by the user via `torch.serialization.add_safe_globals`. We recommend you start setting `weights_only=True` for any use case where you don't have full control of the loaded file. Please open an issue on GitHub for any issues related to this experimental feature.\n",
      "  model.load_state_dict(torch.load('best_nnue_model.pth'))\n"
     ]
    }
   ],
   "source": [
    "scaler = StandardScaler()\n",
    "df['Eval_scaled'] = scaler.fit_transform(df[['Evaluation']])\n",
    "\n",
    "# Create dataset and dataloaders\n",
    "dataset = ChessDataset(df)\n",
    "train_size = int(0.8 * len(dataset))\n",
    "val_size = int(0.1 * len(dataset))\n",
    "test_size = len(dataset) - train_size - val_size\n",
    "train_dataset, val_dataset, test_dataset = random_split(dataset, [train_size, val_size, test_size])\n",
    "\n",
    "batch_size = 128\n",
    "train_loader = DataLoader(train_dataset, batch_size=batch_size, shuffle=True)\n",
    "val_loader = DataLoader(val_dataset, batch_size=batch_size, shuffle=False)\n",
    "test_loader = DataLoader(test_dataset, batch_size=batch_size, shuffle=False)\n",
    "\n",
    "# Initialize model, loss, optimizer\n",
    "device = torch.device('cuda' if torch.cuda.is_available() else 'cpu')\n",
    "model = NNUEModel().to(device)\n",
    "criterion = nn.MSELoss()\n",
    "optimizer = torch.optim.Adam(model.parameters(), lr=1e-2)\n",
    "\n",
    "# Training loop\n",
    "num_epochs = 50\n",
    "best_val_loss = float('inf')\n",
    "patience = 5\n",
    "trigger_times = 0\n",
    "\n",
    "for epoch in range(1, num_epochs + 1):\n",
    "    train_loss = train_epoch(model, train_loader, criterion, optimizer, device)\n",
    "    val_loss = validate_epoch(model, val_loader, criterion, device)\n",
    "    \n",
    "    print(f'Epoch {epoch}: Train Loss = {train_loss:.4f}, Val Loss = {val_loss:.4f}')\n",
    "    \n",
    "    if val_loss < best_val_loss:\n",
    "        best_val_loss = val_loss\n",
    "        trigger_times = 0\n",
    "        torch.save(model.state_dict(), 'best_nnue_model.pth')\n",
    "    else:\n",
    "        trigger_times += 1\n",
    "        if trigger_times >= patience:\n",
    "            print('Early stopping!')\n",
    "            break\n",
    "\n",
    "# Load best model and evaluate\n",
    "model.load_state_dict(torch.load('best_nnue_model.pth'))\n",
    "test_loss = test_model(model, test_loader, criterion, device)\n",
    "print(f'Test Loss: {test_loss:.4f}')"
   ],
   "metadata": {
    "collapsed": false,
    "ExecuteTime": {
     "end_time": "2024-11-26T08:21:52.197736Z",
     "start_time": "2024-11-26T08:21:27.554830Z"
    }
   },
   "id": "6e25a69c41e66f78",
   "execution_count": 43
  },
  {
   "cell_type": "code",
   "outputs": [],
   "source": [],
   "metadata": {
    "collapsed": false
   },
   "id": "4c7752a9ed447b4"
  }
 ],
 "metadata": {
  "kernelspec": {
   "display_name": "Python 3",
   "language": "python",
   "name": "python3"
  },
  "language_info": {
   "codemirror_mode": {
    "name": "ipython",
    "version": 2
   },
   "file_extension": ".py",
   "mimetype": "text/x-python",
   "name": "python",
   "nbconvert_exporter": "python",
   "pygments_lexer": "ipython2",
   "version": "2.7.6"
  }
 },
 "nbformat": 4,
 "nbformat_minor": 5
}
